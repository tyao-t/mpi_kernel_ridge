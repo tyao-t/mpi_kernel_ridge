{
 "cells": [
  {
   "cell_type": "code",
   "execution_count": 3,
   "id": "e58c8ac5-c50b-4d8f-a6f0-7da767625b0b",
   "metadata": {},
   "outputs": [
    {
     "name": "stdout",
     "output_type": "stream",
     "text": [
      "Starting 4 engines with <class 'ipyparallel.cluster.launcher.MPIEngineSetLauncher'>\n"
     ]
    },
    {
     "data": {
      "application/vnd.jupyter.widget-view+json": {
       "model_id": "e00c41df208843eaa1ea56de0b84919a",
       "version_major": 2,
       "version_minor": 0
      },
      "text/plain": [
       "  0%|          | 0/4 [00:00<?, ?engine/s]"
      ]
     },
     "metadata": {},
     "output_type": "display_data"
    },
    {
     "data": {
      "application/vnd.jupyter.widget-view+json": {
       "model_id": "667c4d7fa8b84c658500cbb022c48c81",
       "version_major": 2,
       "version_minor": 0
      },
      "text/plain": [
       "mpi_example:   0%|          | 0/4 [00:00<?, ?tasks/s]"
      ]
     },
     "metadata": {},
     "output_type": "display_data"
    },
    {
     "name": "stdout",
     "output_type": "stream",
     "text": [
      "Stopping engine(s): 1718130603\n",
      "engine set stopped 1718130603: {'exit_code': 0, 'pid': 96082, 'identifier': 'ipengine-1718130602-ldys-1718130603-95660'}\n",
      "Stopping controller\n",
      "Controller stopped: {'exit_code': 0, 'pid': 96069, 'identifier': 'ipcontroller-1718130602-ldys-95660'}\n"
     ]
    }
   ],
   "source": [
    "import ipyparallel as ipp\n",
    "def mpi_example():\n",
    "    from mpi4py import MPI\n",
    "    comm = MPI.COMM_WORLD\n",
    "    print(\"Hi\")\n",
    "    return f\"Hello World from rank {comm.Get_rank()}. total ranks={comm.Get_size()}. host={MPI.Get_processor_name()}\"\n",
    "\n",
    "with ipp.Cluster(controller_ip=\"*\", engines=\"mpi\", n=4) as rc:\n",
    "    # get a broadcast_view on the cluster which is best\n",
    "    # suited for MPI style computation\n",
    "    view = rc.broadcast_view()\n",
    "    ar = view.apply(mpi_example)\n",
    "    ar.wait_interactive()\n",
    "    # print(\"\\n\".join(r))\n"
   ]
  }
 ],
 "metadata": {
  "kernelspec": {
   "display_name": "Python 3 (ipykernel)",
   "language": "python",
   "name": "python3"
  },
  "language_info": {
   "codemirror_mode": {
    "name": "ipython",
    "version": 3
   },
   "file_extension": ".py",
   "mimetype": "text/x-python",
   "name": "python",
   "nbconvert_exporter": "python",
   "pygments_lexer": "ipython3",
   "version": "3.11.9"
  }
 },
 "nbformat": 4,
 "nbformat_minor": 5
}
